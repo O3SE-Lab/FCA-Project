{
 "cells": [
  {
   "cell_type": "code",
   "execution_count": 28,
   "metadata": {},
   "outputs": [
    {
     "name": "stdout",
     "output_type": "stream",
     "text": [
      "[['Air Canada', 'Air New Zealand', 'All Nippon Airways', 'Ansett Australia', 'The Austian Airlines Group', 'British Midland', 'Lufthansa', 'Mexicana', 'Scandinavian Airlines', 'Singapore Airlines', 'Thai Airways International', 'United Airlines', 'VARIG'], ['Latin America', 'Europe', 'Canada', 'Asia Pacific', 'Middle East', 'Africa', 'Mexico', 'Canribbean', 'United States'], [('Air Canada', 'Latin America'), ('Air Canada', 'Europe'), ('Air Canada', 'Canada'), ('Air Canada', 'Asia Pacific'), ('Air Canada', 'Middle East'), ('Air Canada', 'Mexico'), ('Air Canada', 'Canribbean'), ('Air Canada', 'United States'), ('Air New Zealand', 'Europe'), ('Air New Zealand', 'Asia Pacific'), ('Air New Zealand', 'United States'), ('All Nippon Airways', 'Europe'), ('All Nippon Airways', 'Asia Pacific'), ('All Nippon Airways', 'United States'), ('Ansett Australia', 'Asia Pacific'), ('The Austian Airlines Group', 'Europe'), ('The Austian Airlines Group', 'Canada'), ('The Austian Airlines Group', 'Asia Pacific'), ('The Austian Airlines Group', 'Africa'), ('The Austian Airlines Group', 'United States'), ('British Midland', 'Europe'), ('Lufthansa', 'Latin America'), ('Lufthansa', 'Europe'), ('Lufthansa', 'Canada'), ('Lufthansa', 'Asia Pacific'), ('Lufthansa', 'Middle East'), ('Lufthansa', 'Africa'), ('Lufthansa', 'Mexico'), ('Lufthansa', 'United States'), ('Mexicana', 'Latin America'), ('Mexicana', 'Canada'), ('Mexicana', 'Mexico'), ('Mexicana', 'Canribbean'), ('Mexicana', 'United States'), ('Scandinavian Airlines', 'Latin America'), ('Scandinavian Airlines', 'Europe'), ('Scandinavian Airlines', 'Asia Pacific'), ('Scandinavian Airlines', 'Africa'), ('Scandinavian Airlines', 'United States'), ('Singapore Airlines', 'Europe'), ('Singapore Airlines', 'Canada'), ('Singapore Airlines', 'Asia Pacific'), ('Singapore Airlines', 'Middle East'), ('Singapore Airlines', 'Africa'), ('Singapore Airlines', 'United States'), ('Thai Airways International', 'Latin America'), ('Thai Airways International', 'Europe'), ('Thai Airways International', 'Asia Pacific'), ('Thai Airways International', 'Canribbean'), ('Thai Airways International', 'United States'), ('United Airlines', 'Latin America'), ('United Airlines', 'Europe'), ('United Airlines', 'Canada'), ('United Airlines', 'Asia Pacific'), ('United Airlines', 'Mexico'), ('United Airlines', 'Canribbean'), ('United Airlines', 'United States'), ('VARIG', 'Latin America'), ('VARIG', 'Europe'), ('VARIG', 'Asia Pacific'), ('VARIG', 'Africa'), ('VARIG', 'Mexico'), ('VARIG', 'United States')]]\n"
     ]
    }
   ],
   "source": [
    "import pandas as pd\n",
    "import numpy as np\n",
    "\n",
    "def InputContext(fileName):\n",
    "\n",
    "    data = pd.read_csv(fileName)\n",
    "    \n",
    "    G = list(data.index)\n",
    "    M = list(data.columns)\n",
    "    I = []\n",
    "    \n",
    "    for i in G:\n",
    "        for j in M:\n",
    "            if data[j][i] == \"X\":\n",
    "                I.append((i,j))\n",
    "    K = [G,M,I]\n",
    "    array = data.values\n",
    "    return K"
   ]
  },
  {
   "cell_type": "code",
   "execution_count": 29,
   "metadata": {},
   "outputs": [],
   "source": [
    " def CA(A):\n",
    "      #m들을 집어넣을 리스트\n",
    "      M = []\n",
    "\n",
    "      #전역변수 K에서 I를 가져옴\n",
    "      I = K[2]\n",
    "\n",
    "      #A_Prime 리스트\n",
    "      A_Prime = []\n",
    "\n",
    "      for a in A:\n",
    "        #임시적으로 저장할 리스트\n",
    "        temp = []\n",
    "\n",
    "        #I에서 A의 요소들의 속성들을 가져와 M에 저장\n",
    "        for i in I:\n",
    "          if i[0] == a:\n",
    "            temp.append(i[1])\n",
    "        M.append(temp)\n",
    "\n",
    "      if len(M) != 0: #공집합일 경우를 제외\n",
    "\n",
    "        #M에서 비교하여 공통적인 m들을 구함\n",
    "        for m in M[0]:\n",
    "          is_in = False  #모두 포함하는지 확인할 boolean\n",
    "          for i in range(len(M)):\n",
    "            if m in M[i]:\n",
    "              if i == (len(M)-1):  #마지막까지 포함하면 is_in을 True로 바꿈\n",
    "                is_in = True\n",
    "              continue\n",
    "\n",
    "            #없는경우 에는 루프를 끊음\n",
    "            else:\n",
    "              break\n",
    "\n",
    "          #is_in이 True일경우 A_Prime에 넣음\n",
    "          if is_in:\n",
    "            A_Prime.append(m)\n",
    "\n",
    "      return A_Prime\n",
    "\n",
    "def CO(B):\n",
    "  #g들을 집어넣을 리스트\n",
    "  G = []\n",
    "\n",
    "  #전역변수 K에서 I를 가져옴\n",
    "  I = K[2]\n",
    "\n",
    "  #B_Prime 리스트\n",
    "  B_Prime = []\n",
    "\n",
    "  for b in B:\n",
    "    #임시적으로 저장할 리스트\n",
    "    temp = []\n",
    "\n",
    "    #I에서 B의 요소들의 속성들을 가져와 G에 저장\n",
    "    for i in I:\n",
    "      if i[1] == b:\n",
    "        temp.append(i[0])\n",
    "    G.append(temp)\n",
    "\n",
    "  if len(G) != 0: #공집합일 경우를 제외\n",
    "\n",
    "    #G에서 비교하여 공통적인 g들을 구함\n",
    "    for g in G[0]:\n",
    "      is_in = False  #모두 포함하는지 확인할 boolean\n",
    "      for i in range(len(G)):\n",
    "        if g in G[i]:\n",
    "          if i == (len(G)-1):  #마지막까지 포함하면 is_in을 True로 바꿈\n",
    "            is_in = True\n",
    "          continue\n",
    "\n",
    "        #없는경우 에는 루프를 끊음\n",
    "        else:\n",
    "          break\n",
    "\n",
    "      #is_in이 True일경우 B_Prime에 넣음 \n",
    "      if is_in:\n",
    "        B_Prime.append(g)\n",
    "\n",
    "  return B_Prime"
   ]
  },
  {
   "cell_type": "code",
   "execution_count": 30,
   "metadata": {},
   "outputs": [
    {
     "name": "stdout",
     "output_type": "stream",
     "text": [
      "['Europe', 'Asia Pacific', 'United States']\n",
      "['Air Canada', 'Lufthansa', 'Scandinavian Airlines', 'Thai Airways International', 'United Airlines', 'VARIG']\n"
     ]
    }
   ],
   "source": [
    "csv_FileName = \"./TestData.csv\"\n",
    "K = InputContext(csv_FileName)\n",
    "A = [\"Air Canada\", \"Air New Zealand\", \"Scandinavian Airlines\"]\n",
    "B = [\"Latin America\", \"Europe\", \"United States\"]\n",
    "\n",
    "A_Prime = CA(A)\n",
    "B_Prime = CO(B)\n",
    "\n",
    "print(A_Prime)\n",
    "print(B_Prime)"
   ]
  },
  {
   "cell_type": "code",
   "execution_count": null,
   "metadata": {},
   "outputs": [],
   "source": []
  }
 ],
 "metadata": {
  "kernelspec": {
   "display_name": "Python 3",
   "language": "python",
   "name": "python3"
  },
  "language_info": {
   "codemirror_mode": {
    "name": "ipython",
    "version": 3
   },
   "file_extension": ".py",
   "mimetype": "text/x-python",
   "name": "python",
   "nbconvert_exporter": "python",
   "pygments_lexer": "ipython3",
   "version": "3.7.6"
  }
 },
 "nbformat": 4,
 "nbformat_minor": 4
}
