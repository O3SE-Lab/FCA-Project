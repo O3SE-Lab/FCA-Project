{
 "cells": [
  {
   "cell_type": "code",
   "execution_count": 5,
   "metadata": {},
   "outputs": [
    {
     "name": "stdout",
     "output_type": "stream",
     "text": [
      "[(), ('a1',), ('a2',), ('a3',), ('a1', 'a2'), ('a1', 'a3'), ('a2', 'a3'), ('a1', 'a2', 'a3')]\n",
      "[(), ('b1',), ('b2',), ('b3',), ('b4',), ('b1', 'b2'), ('b1', 'b3'), ('b1', 'b4'), ('b2', 'b3'), ('b2', 'b4'), ('b3', 'b4'), ('b1', 'b2', 'b3'), ('b1', 'b2', 'b4'), ('b1', 'b3', 'b4'), ('b2', 'b3', 'b4'), ('b1', 'b2', 'b3', 'b4')]\n"
     ]
    }
   ],
   "source": [
    "from itertools import chain, combinations\n",
    "\n",
    "def powerset(G,M):\n",
    "\n",
    "    G_powerSet = []\n",
    "    M_powerSet = []\n",
    "\n",
    "    for i in range(0,len(G)+1):\n",
    "        c = combinations(G,i)\n",
    "        G_powerSet.extend(c)\n",
    "    print(G_powerSet)\n",
    "    \n",
    "    for i in range(0,len(M)+1):\n",
    "        c = combinations(M,i)\n",
    "        M_powerSet.extend(c)\n",
    "    print(M_powerSet)\n",
    "\n",
    "G = [\"a1\",\"a2\",\"a3\"]\n",
    "M = [\"b1\",\"b2\",\"b3\",\"b4\"]\n",
    "powerset(G,M)"
   ]
  },
  {
   "cell_type": "code",
   "execution_count": null,
   "metadata": {},
   "outputs": [],
   "source": []
  }
 ],
 "metadata": {
  "kernelspec": {
   "display_name": "Python 3",
   "language": "python",
   "name": "python3"
  },
  "language_info": {
   "codemirror_mode": {
    "name": "ipython",
    "version": 3
   },
   "file_extension": ".py",
   "mimetype": "text/x-python",
   "name": "python",
   "nbconvert_exporter": "python",
   "pygments_lexer": "ipython3",
   "version": "3.8.5"
  }
 },
 "nbformat": 4,
 "nbformat_minor": 4
}
